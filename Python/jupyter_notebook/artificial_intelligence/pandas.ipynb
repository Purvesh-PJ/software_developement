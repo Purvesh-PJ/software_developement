{
 "cells": [
  {
   "cell_type": "code",
   "execution_count": 10,
   "id": "0ededd4d-60d9-4abb-8af4-81ad17ba577c",
   "metadata": {},
   "outputs": [
    {
     "name": "stdout",
     "output_type": "stream",
     "text": [
      "      Education  JoiningYear       City  PaymentTier  Age  Gender EverBenched  \\\n",
      "0     Bachelors         2017  Bangalore            3   34    Male          No   \n",
      "1     Bachelors         2013       Pune            1   28  Female          No   \n",
      "2     Bachelors         2014  New Delhi            3   38  Female          No   \n",
      "3       Masters         2016  Bangalore            3   27    Male          No   \n",
      "4       Masters         2017       Pune            3   24    Male         Yes   \n",
      "...         ...          ...        ...          ...  ...     ...         ...   \n",
      "4648  Bachelors         2013  Bangalore            3   26  Female          No   \n",
      "4649    Masters         2013       Pune            2   37    Male          No   \n",
      "4650    Masters         2018  New Delhi            3   27    Male          No   \n",
      "4651  Bachelors         2012  Bangalore            3   30    Male         Yes   \n",
      "4652  Bachelors         2015  Bangalore            3   33    Male         Yes   \n",
      "\n",
      "      ExperienceInCurrentDomain  LeaveOrNot  \n",
      "0                             0           0  \n",
      "1                             3           1  \n",
      "2                             2           0  \n",
      "3                             5           1  \n",
      "4                             2           1  \n",
      "...                         ...         ...  \n",
      "4648                          4           0  \n",
      "4649                          2           1  \n",
      "4650                          5           1  \n",
      "4651                          2           0  \n",
      "4652                          4           0  \n",
      "\n",
      "[4653 rows x 9 columns]\n"
     ]
    }
   ],
   "source": [
    "import pandas as pd\n",
    "data = pd.read_csv(\"C:/Users/Purve/Desktop/pandas data/Employee.csv\")\n",
    "print(data)"
   ]
  },
  {
   "cell_type": "code",
   "execution_count": null,
   "id": "2b5fc1af-ec5e-48e9-9878-7a1b0fa15b65",
   "metadata": {},
   "outputs": [],
   "source": []
  }
 ],
 "metadata": {
  "kernelspec": {
   "display_name": "Python 3 (ipykernel)",
   "language": "python",
   "name": "python3"
  },
  "language_info": {
   "codemirror_mode": {
    "name": "ipython",
    "version": 3
   },
   "file_extension": ".py",
   "mimetype": "text/x-python",
   "name": "python",
   "nbconvert_exporter": "python",
   "pygments_lexer": "ipython3",
   "version": "3.12.1"
  }
 },
 "nbformat": 4,
 "nbformat_minor": 5
}
